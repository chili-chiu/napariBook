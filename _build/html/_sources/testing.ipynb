{
 "cells": [
  {
   "cell_type": "markdown",
   "id": "dbbf372a",
   "metadata": {},
   "source": [
    "## Testing page"
   ]
  },
  {
   "cell_type": "code",
   "execution_count": 2,
   "id": "67211ebc",
   "metadata": {},
   "outputs": [
    {
     "data": {
      "text/html": [
       "<video src=\"file_open.mp4\" controls  width=\"512\"  height=\"512\">\n",
       "      Your browser does not support the <code>video</code> element.\n",
       "    </video>"
      ],
      "text/plain": [
       "<IPython.core.display.Video object>"
      ]
     },
     "execution_count": 2,
     "metadata": {},
     "output_type": "execute_result"
    }
   ],
   "source": [
    "from myst_nb import glue\n",
    "from IPython.display import Video\n",
    "fileOpen = Video(\"file_open.mp4\", width=512, height=512)\n",
    "glue(\"fileOpen\", fileOpen)"
   ]
  },
  {
   "cell_type": "code",
   "execution_count": null,
   "id": "29e71e5f",
   "metadata": {},
   "outputs": [],
   "source": []
  }
 ],
 "metadata": {
  "kernelspec": {
   "display_name": "Python 3 (ipykernel)",
   "language": "python",
   "name": "python3"
  },
  "language_info": {
   "codemirror_mode": {
    "name": "ipython",
    "version": 3
   },
   "file_extension": ".py",
   "mimetype": "text/x-python",
   "name": "python",
   "nbconvert_exporter": "python",
   "pygments_lexer": "ipython3",
   "version": "3.8.9"
  }
 },
 "nbformat": 4,
 "nbformat_minor": 5
}

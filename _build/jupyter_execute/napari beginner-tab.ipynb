{
 "cells": [
  {
   "cell_type": "markdown",
   "id": "ff5e0771",
   "metadata": {},
   "source": [
    "# napari beginner"
   ]
  },
  {
   "cell_type": "markdown",
   "id": "8eb003a9",
   "metadata": {},
   "source": [
    "## Summary\n",
    "\n",
    "This tutorial uses napari 0.4.12. <br>\n",
    "\n",
    "Showcase how to access napari functions from Python code and from GUI"
   ]
  },
  {
   "cell_type": "markdown",
   "id": "8b1d7c35",
   "metadata": {},
   "source": [
    "## Load image\n",
    "napari natively supports tiff (and other formats supported by skimage.io.imread) as input image file format.<br>\n",
    "Additional input file formats may be supported by plugins.<br>\n",
    "\n",
    "<font color=blue> GUI has several file open options (drag and drop, File > Open File) <br></font>\n",
    "<font color=red>link: supported file format and plugins</font>"
   ]
  },
  {
   "cell_type": "code",
   "execution_count": 1,
   "id": "642db2f8",
   "metadata": {
    "tags": [
     "hide-cell"
    ]
   },
   "outputs": [],
   "source": [
    "import napari\n",
    "viewer = napari.Viewer()\n",
    "from skimage import data\n",
    "#load multichannel image in one line, with additional options\n",
    "viewer = napari.view_image(data.cells3d(), channel_axis=1, name=[\"membrane\", \"nuclei\"])\n",
    "viewer.dims.ndisplay = 3"
   ]
  },
  {
   "cell_type": "markdown",
   "id": "4e64a18c",
   "metadata": {},
   "source": [
    "````{tabbed} napari in code\n",
    "\n",
    "```python\n",
    "import napari\n",
    "viewer = napari.Viewer()\n",
    "from skimage import data\n",
    "#load multichannel image in one line, with additional options\n",
    "viewer = napari.view_image(data.cells3d(), channel_axis=1, name=[\"membrane\", \"nuclei\"], colormap=[\"green\", \"magenta\"])\n",
    "viewer.dims.ndisplay = 3\n",
    "```\n",
    "\n",
    "````\n",
    "\n",
    "````{tabbed} napari in GUI gif\n",
    "![SegmentLocal](file_open.gif \"segment\")\n",
    "````"
   ]
  },
  {
   "cell_type": "markdown",
   "id": "1bfe916a",
   "metadata": {},
   "source": [
    "## Get image dimension"
   ]
  },
  {
   "cell_type": "code",
   "execution_count": 2,
   "id": "f624f116",
   "metadata": {},
   "outputs": [
    {
     "name": "stderr",
     "output_type": "stream",
     "text": [
      "ERROR:tornado.general:Uncaught exception in ZMQStream callback\n",
      "Traceback (most recent call last):\n",
      "  File \"/opt/anaconda3/envs/napari-env/lib/python3.8/site-packages/zmq/eventloop/zmqstream.py\", line 431, in _run_callback\n",
      "    callback(*args, **kwargs)\n",
      "  File \"/opt/anaconda3/envs/napari-env/lib/python3.8/site-packages/jupyter_client/threaded.py\", line 121, in _handle_recv\n",
      "    msg_list = self.ioloop._asyncio_event_loop.run_until_complete(get_msg(future_msg))\n",
      "  File \"/opt/anaconda3/envs/napari-env/lib/python3.8/asyncio/base_events.py\", line 592, in run_until_complete\n",
      "    self._check_running()\n",
      "  File \"/opt/anaconda3/envs/napari-env/lib/python3.8/asyncio/base_events.py\", line 554, in _check_running\n",
      "    raise RuntimeError(\n",
      "RuntimeError: Cannot run the event loop while another loop is running\n",
      "ERROR:tornado.general:Uncaught exception in zmqstream callback\n",
      "Traceback (most recent call last):\n",
      "  File \"/opt/anaconda3/envs/napari-env/lib/python3.8/site-packages/zmq/eventloop/zmqstream.py\", line 452, in _handle_events\n",
      "    self._handle_recv()\n",
      "  File \"/opt/anaconda3/envs/napari-env/lib/python3.8/site-packages/zmq/eventloop/zmqstream.py\", line 481, in _handle_recv\n",
      "    self._run_callback(callback, msg)\n",
      "  File \"/opt/anaconda3/envs/napari-env/lib/python3.8/site-packages/zmq/eventloop/zmqstream.py\", line 431, in _run_callback\n",
      "    callback(*args, **kwargs)\n",
      "  File \"/opt/anaconda3/envs/napari-env/lib/python3.8/site-packages/jupyter_client/threaded.py\", line 121, in _handle_recv\n",
      "    msg_list = self.ioloop._asyncio_event_loop.run_until_complete(get_msg(future_msg))\n",
      "  File \"/opt/anaconda3/envs/napari-env/lib/python3.8/asyncio/base_events.py\", line 592, in run_until_complete\n",
      "    self._check_running()\n",
      "  File \"/opt/anaconda3/envs/napari-env/lib/python3.8/asyncio/base_events.py\", line 554, in _check_running\n",
      "    raise RuntimeError(\n",
      "RuntimeError: Cannot run the event loop while another loop is running\n",
      "Exception in callback BaseAsyncIOLoop._handle_events(121, 1)\n",
      "handle: <Handle BaseAsyncIOLoop._handle_events(121, 1)>\n",
      "Traceback (most recent call last):\n",
      "  File \"/opt/anaconda3/envs/napari-env/lib/python3.8/asyncio/events.py\", line 81, in _run\n",
      "    self._context.run(self._callback, *self._args)\n",
      "  File \"/opt/anaconda3/envs/napari-env/lib/python3.8/site-packages/tornado/platform/asyncio.py\", line 189, in _handle_events\n",
      "    handler_func(fileobj, events)\n",
      "  File \"/opt/anaconda3/envs/napari-env/lib/python3.8/site-packages/zmq/eventloop/zmqstream.py\", line 452, in _handle_events\n",
      "    self._handle_recv()\n",
      "  File \"/opt/anaconda3/envs/napari-env/lib/python3.8/site-packages/zmq/eventloop/zmqstream.py\", line 481, in _handle_recv\n",
      "    self._run_callback(callback, msg)\n",
      "  File \"/opt/anaconda3/envs/napari-env/lib/python3.8/site-packages/zmq/eventloop/zmqstream.py\", line 431, in _run_callback\n",
      "    callback(*args, **kwargs)\n",
      "  File \"/opt/anaconda3/envs/napari-env/lib/python3.8/site-packages/jupyter_client/threaded.py\", line 121, in _handle_recv\n",
      "    msg_list = self.ioloop._asyncio_event_loop.run_until_complete(get_msg(future_msg))\n",
      "  File \"/opt/anaconda3/envs/napari-env/lib/python3.8/asyncio/base_events.py\", line 592, in run_until_complete\n",
      "    self._check_running()\n",
      "  File \"/opt/anaconda3/envs/napari-env/lib/python3.8/asyncio/base_events.py\", line 554, in _check_running\n",
      "    raise RuntimeError(\n",
      "RuntimeError: Cannot run the event loop while another loop is running\n"
     ]
    },
    {
     "name": "stdout",
     "output_type": "stream",
     "text": [
      "image dimension in (z,y,x): (60, 256, 256)\n"
     ]
    },
    {
     "name": "stderr",
     "output_type": "stream",
     "text": [
      "ERROR:tornado.general:Uncaught exception in ZMQStream callback\n",
      "Traceback (most recent call last):\n",
      "  File \"/opt/anaconda3/envs/napari-env/lib/python3.8/site-packages/zmq/eventloop/zmqstream.py\", line 431, in _run_callback\n",
      "    callback(*args, **kwargs)\n",
      "  File \"/opt/anaconda3/envs/napari-env/lib/python3.8/site-packages/jupyter_client/threaded.py\", line 121, in _handle_recv\n",
      "    msg_list = self.ioloop._asyncio_event_loop.run_until_complete(get_msg(future_msg))\n",
      "  File \"/opt/anaconda3/envs/napari-env/lib/python3.8/asyncio/base_events.py\", line 592, in run_until_complete\n",
      "    self._check_running()\n",
      "  File \"/opt/anaconda3/envs/napari-env/lib/python3.8/asyncio/base_events.py\", line 554, in _check_running\n",
      "    raise RuntimeError(\n",
      "RuntimeError: Cannot run the event loop while another loop is running\n",
      "ERROR:tornado.general:Uncaught exception in zmqstream callback\n",
      "Traceback (most recent call last):\n",
      "  File \"/opt/anaconda3/envs/napari-env/lib/python3.8/site-packages/zmq/eventloop/zmqstream.py\", line 452, in _handle_events\n",
      "    self._handle_recv()\n",
      "  File \"/opt/anaconda3/envs/napari-env/lib/python3.8/site-packages/zmq/eventloop/zmqstream.py\", line 481, in _handle_recv\n",
      "    self._run_callback(callback, msg)\n",
      "  File \"/opt/anaconda3/envs/napari-env/lib/python3.8/site-packages/zmq/eventloop/zmqstream.py\", line 431, in _run_callback\n",
      "    callback(*args, **kwargs)\n",
      "  File \"/opt/anaconda3/envs/napari-env/lib/python3.8/site-packages/jupyter_client/threaded.py\", line 121, in _handle_recv\n",
      "    msg_list = self.ioloop._asyncio_event_loop.run_until_complete(get_msg(future_msg))\n",
      "  File \"/opt/anaconda3/envs/napari-env/lib/python3.8/asyncio/base_events.py\", line 592, in run_until_complete\n",
      "    self._check_running()\n",
      "  File \"/opt/anaconda3/envs/napari-env/lib/python3.8/asyncio/base_events.py\", line 554, in _check_running\n",
      "    raise RuntimeError(\n",
      "RuntimeError: Cannot run the event loop while another loop is running\n",
      "Exception in callback BaseAsyncIOLoop._handle_events(158, 1)\n",
      "handle: <Handle BaseAsyncIOLoop._handle_events(158, 1)>\n",
      "Traceback (most recent call last):\n",
      "  File \"/opt/anaconda3/envs/napari-env/lib/python3.8/asyncio/events.py\", line 81, in _run\n",
      "    self._context.run(self._callback, *self._args)\n",
      "  File \"/opt/anaconda3/envs/napari-env/lib/python3.8/site-packages/tornado/platform/asyncio.py\", line 189, in _handle_events\n",
      "    handler_func(fileobj, events)\n",
      "  File \"/opt/anaconda3/envs/napari-env/lib/python3.8/site-packages/zmq/eventloop/zmqstream.py\", line 452, in _handle_events\n",
      "    self._handle_recv()\n",
      "  File \"/opt/anaconda3/envs/napari-env/lib/python3.8/site-packages/zmq/eventloop/zmqstream.py\", line 481, in _handle_recv\n",
      "    self._run_callback(callback, msg)\n",
      "  File \"/opt/anaconda3/envs/napari-env/lib/python3.8/site-packages/zmq/eventloop/zmqstream.py\", line 431, in _run_callback\n",
      "    callback(*args, **kwargs)\n",
      "  File \"/opt/anaconda3/envs/napari-env/lib/python3.8/site-packages/jupyter_client/threaded.py\", line 121, in _handle_recv\n",
      "    msg_list = self.ioloop._asyncio_event_loop.run_until_complete(get_msg(future_msg))\n",
      "  File \"/opt/anaconda3/envs/napari-env/lib/python3.8/asyncio/base_events.py\", line 592, in run_until_complete\n",
      "    self._check_running()\n",
      "  File \"/opt/anaconda3/envs/napari-env/lib/python3.8/asyncio/base_events.py\", line 554, in _check_running\n",
      "    raise RuntimeError(\n",
      "RuntimeError: Cannot run the event loop while another loop is running\n"
     ]
    }
   ],
   "source": [
    "print(\"image dimension in (z,y,x):\", viewer.layers['nuclei'].data.shape)"
   ]
  },
  {
   "cell_type": "markdown",
   "id": "070f10e2",
   "metadata": {},
   "source": [
    "## Adjust image display\n",
    "\n",
    "Both API and GUI have flexible image display control.<br>\n",
    "\n",
    "For other display options, see [napari image layer API](https://napari.org/api/stable/napari.layers.Image.html).\n"
   ]
  },
  {
   "cell_type": "markdown",
   "id": "e3595792",
   "metadata": {},
   "source": [
    "````{tabbed} napari in code\n",
    "\n",
    "```python\n",
    "#change nuclei color to magenta\n",
    "viewer.layers['nuclei'].colormap = 'red'\n",
    "viewer.layers['membrane'].colormap = 'green'\n",
    "```\n",
    "\n",
    "````\n",
    "\n",
    "````{tabbed} napari in GUI gif\n",
    "![SegmentLocal](colormap.gif \"segment\")\n",
    "````"
   ]
  },
  {
   "cell_type": "code",
   "execution_count": 3,
   "id": "cc106d36",
   "metadata": {
    "tags": [
     "hide-cell"
    ]
   },
   "outputs": [],
   "source": [
    "viewer.close()"
   ]
  }
 ],
 "metadata": {
  "celltoolbar": "Tags",
  "kernelspec": {
   "display_name": "Python 3 (ipykernel)",
   "language": "python",
   "name": "python3"
  },
  "language_info": {
   "codemirror_mode": {
    "name": "ipython",
    "version": 3
   },
   "file_extension": ".py",
   "mimetype": "text/x-python",
   "name": "python",
   "nbconvert_exporter": "python",
   "pygments_lexer": "ipython3",
   "version": "3.8.11"
  }
 },
 "nbformat": 4,
 "nbformat_minor": 5
}
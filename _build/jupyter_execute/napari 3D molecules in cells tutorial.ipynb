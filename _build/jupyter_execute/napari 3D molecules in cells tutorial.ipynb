{
 "cells": [
  {
   "cell_type": "markdown",
   "id": "b64f2687",
   "metadata": {},
   "source": [
    "## 3D molecules in cells\n",
    "\n",
    "This tutorial uses napari 0.4.12.<br>\n",
    "\n",
    "Dataset :<br>\n",
    "scikit-image > Cells (3D+2Ch)\n",
    "\n",
    "Analysis goals:<br> \n",
    "Count the number of points per cell.\n",
    "\n",
    "Tutorial goals:<br>\n",
    "(1) Use napari + Python libraries to perform common image analysis from end to end.<br>\n",
    "(2) Note napari viewer GUI/API function availability at various steps.  \n",
    "\n",
    "Steps:\n",
    "- Load image\n",
    "- Cell segmentation\n",
    "- Points detection\n",
    "- Quantify number of points per cell\n",
    "- Plot number of points versus cell size\n",
    "\n",
    "<font color=red> RED: links to add<br> </font>\n",
    "<font color=blue> BLUE: GUI availability in viewer </font>"
   ]
  },
  {
   "cell_type": "markdown",
   "id": "4ca632eb",
   "metadata": {},
   "source": [
    "## Load Image\n",
    "\n",
    "Use skimage.data.cells3d as the example image.<br>\n",
    "The original image has dimension ZCYT=(60, 2, 256, 256). Load each channel as an image layer for easier display and downstream process.\n"
   ]
  },
  {
   "cell_type": "code",
   "execution_count": 1,
   "id": "78405a9e",
   "metadata": {},
   "outputs": [
    {
     "name": "stdout",
     "output_type": "stream",
     "text": [
      "file dimension: (z,ch,y,x) (60, 2, 256, 256)\n"
     ]
    }
   ],
   "source": [
    "import napari\n",
    "from napari.utils import nbscreenshot\n",
    "from skimage import data\n",
    "\n",
    "print(\"file dimension: (z,ch,y,x)\", data.cells3d().shape)"
   ]
  },
  {
   "cell_type": "code",
   "execution_count": 2,
   "id": "442c969b",
   "metadata": {},
   "outputs": [],
   "source": [
    "#load multichannel image in one line, with additional options\n",
    "viewer = napari.view_image(data.cells3d(), channel_axis=1, name=[\"membrane\", \"nuclei\"], colormap=[\"green\", \"magenta\"])\n",
    "viewer.dims.ndisplay = 3"
   ]
  },
  {
   "cell_type": "markdown",
   "id": "3786fa3d",
   "metadata": {},
   "source": [
    "## Cell segmentation\n",
    "\n",
    "Use Cellpose to segment cells, with following settings for faster calculation:<br>\n",
    "image layer = nuclei<br>\n",
    "model type = nuclei<br>\n",
    "click \"compute diameter from image\"<br>\n",
    "uncheck \"average 4 nets\", \"output flows and cellprob\", \"output outlines\", \"resample dynamics\"<br>\n",
    "check \"process stack as 3D\"<br>\n",
    "\n",
    "Once done, use label eraser to manually clean up unwanted fragments from dividing nucleus.<br>\n",
    "Note: label eraser - can work in 3D display but not quite clear why sometimes specific pixels are not being picked up.<br>\n",
    "Note: Cellpose can segment this image quite well, but takes minutes to finish calculation on a 2019 Macbook Pro. <br>\n",
    "\n",
    "<font color=red> labels layer, Cellpose doc </font><br>\n",
    "<font color=blue> Cellpose plugin, label manual editing tool </font>\n"
   ]
  },
  {
   "cell_type": "code",
   "execution_count": 3,
   "id": "e3b9abfc",
   "metadata": {},
   "outputs": [],
   "source": [
    "#Once done, save the label layer for convinience \n",
    "file_name = '/Users/cchiu/Desktop/images/tutorial_test.tif'\n",
    "#viewer.layers[2].save(file_name)"
   ]
  },
  {
   "cell_type": "code",
   "execution_count": 10,
   "id": "1c7cddeb",
   "metadata": {
    "scrolled": true
   },
   "outputs": [
    {
     "data": {
      "text/plain": [
       "<Labels layer 'seg' at 0x177fbccd0>"
      ]
     },
     "execution_count": 10,
     "metadata": {},
     "output_type": "execute_result"
    }
   ],
   "source": [
    "#Reload the saved label layer if necessary\n",
    "from tifffile import imread\n",
    "viewer.add_labels(imread(file_name), name = 'seg')"
   ]
  },
  {
   "cell_type": "code",
   "execution_count": null,
   "id": "7ee973a9",
   "metadata": {},
   "outputs": [],
   "source": [
    "nbscreenshot(viewer)"
   ]
  },
  {
   "cell_type": "markdown",
   "id": "00a26768",
   "metadata": {},
   "source": [
    "## Points detection\n",
    "\n",
    "(1) Use skimage.feature.blob_log to detect points in membrane channel <br>\n",
    "(2) Add points layer named \"aggregates\" <br>\n",
    "\n",
    "<font color=red> points layer </font><br>\n",
    "<font color=blue> napari-segment-blobs-and-things-with-membranes plugin </font>"
   ]
  },
  {
   "cell_type": "code",
   "execution_count": 11,
   "id": "934c4ea2",
   "metadata": {},
   "outputs": [
    {
     "name": "stdout",
     "output_type": "stream",
     "text": [
      "total points detected: 341\n"
     ]
    },
    {
     "data": {
      "text/plain": [
       "<Points layer 'aggregates' at 0x1cfe72eb0>"
      ]
     },
     "execution_count": 11,
     "metadata": {},
     "output_type": "execute_result"
    }
   ],
   "source": [
    "from skimage.feature import blob_log\n",
    "\n",
    "blobs = blob_log(viewer.layers['membrane'].data, min_sigma=0.35, max_sigma=1, num_sigma=10, threshold=0.6)\n",
    "\n",
    "#returns coordinates + sigma, only keep coordinates\n",
    "points = blobs[:,:-1]\n",
    "print(\"total points detected:\", points.shape[0])\n",
    "\n",
    "viewer.add_points(points, size=2, name='aggregates')"
   ]
  },
  {
   "cell_type": "markdown",
   "id": "f3ed7461",
   "metadata": {},
   "source": [
    "## Quantify number of points per cell\n",
    "\n",
    "Use label layer value to identify points location.<br>"
   ]
  },
  {
   "cell_type": "code",
   "execution_count": 10,
   "id": "8ecc1c93",
   "metadata": {},
   "outputs": [
    {
     "name": "stdout",
     "output_type": "stream",
     "text": [
      "    cell  pt_count\n",
      "0      0       311\n",
      "1     34         4\n",
      "2     20         4\n",
      "3     37         4\n",
      "4     42         3\n",
      "5     12         2\n",
      "6     28         2\n",
      "7     15         2\n",
      "8     23         2\n",
      "9     43         2\n",
      "10    26         2\n",
      "11    18         1\n",
      "12    27         1\n",
      "13    30         1\n"
     ]
    }
   ],
   "source": [
    "import pandas as pd\n",
    "\n",
    "cells = viewer.layers['seg'].data\n",
    "\n",
    "#create a dataframe that contains points and their corresponding cell location\n",
    "agg_cell = pd.DataFrame(columns=['z', 'y', 'x','cell'])\n",
    "for agg in viewer.layers['aggregates'].data:\n",
    "    z,y,x = agg.astype(int)\n",
    "    agg_cell = agg_cell.append({'z':z,'y':y,'x':x,'cell':cells[z,y,x]},ignore_index=True) \n",
    "\n",
    "agg_count = agg_cell['cell'].value_counts().to_frame()\n",
    "agg_count = agg_count.reset_index().rename(columns={'index':'cell','cell':'pt_count'})\n",
    "print(agg_count)"
   ]
  },
  {
   "cell_type": "markdown",
   "id": "7e30154f",
   "metadata": {},
   "source": [
    "## Plot number of points versus cell size"
   ]
  },
  {
   "cell_type": "code",
   "execution_count": 12,
   "id": "3e4f07e2",
   "metadata": {},
   "outputs": [
    {
     "data": {
      "text/plain": [
       "<AxesSubplot:xlabel='size', ylabel='pt_count'>"
      ]
     },
     "execution_count": 12,
     "metadata": {},
     "output_type": "execute_result"
    },
    {
     "data": {
      "image/png": "[encoded data removed]",
      "text/plain": [
       "<Figure size 432x288 with 1 Axes>"
      ]
     },
     "metadata": {
      "filenames": {
       "image/png": "/Users/cchiu/PycharmProjects/napari_new/napariTutorial/_build/jupyter_execute/napari 3D molecules in cells tutorial_13_1.png"
      },
      "needs_background": "light"
     },
     "output_type": "display_data"
    }
   ],
   "source": [
    "import numpy as np\n",
    "from skimage.measure import regionprops_table\n",
    "\n",
    "properties = ['label', 'area']\n",
    "\n",
    "cell_table = pd.DataFrame(regionprops_table(cells, properties=properties))\n",
    "cell_table = cell_table.rename(columns={\"label\": \"cell\", \"area\": \"size\"})\n",
    "\n",
    "#combine agg_count and cell_table\n",
    "#columns: cell, pt_count, size\n",
    "result = pd.merge(agg_count, cell_table, how=\"right\", on=[\"cell\"]).fillna(0)\n",
    "\n",
    "#scatter plot: number of points versus cell size\n",
    "import matplotlib.pyplot as plt\n",
    "result.plot.scatter(x=\"size\", y=\"pt_count\")"
   ]
  }
 ],
 "metadata": {
  "kernelspec": {
   "display_name": "Python 3 (ipykernel)",
   "language": "python",
   "name": "python3"
  },
  "language_info": {
   "codemirror_mode": {
    "name": "ipython",
    "version": 3
   },
   "file_extension": ".py",
   "mimetype": "text/x-python",
   "name": "python",
   "nbconvert_exporter": "python",
   "pygments_lexer": "ipython3",
   "version": "3.8.11"
  }
 },
 "nbformat": 4,
 "nbformat_minor": 5
}